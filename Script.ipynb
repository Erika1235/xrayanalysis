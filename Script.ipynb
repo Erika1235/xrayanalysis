{
  "nbformat": 4,
  "nbformat_minor": 0,
  "metadata": {
    "colab": {
      "name": "Script.ipynb",
      "provenance": [],
      "collapsed_sections": [],
      "include_colab_link": true
    },
    "kernelspec": {
      "name": "python3",
      "display_name": "Python 3"
    }
  },
  "cells": [
    {
      "cell_type": "markdown",
      "metadata": {
        "id": "view-in-github",
        "colab_type": "text"
      },
      "source": [
        "<a href=\"https://colab.research.google.com/github/dcordovacarrizales/xrayanalysis/blob/master/Script.ipynb\" target=\"_parent\"><img src=\"https://colab.research.google.com/assets/colab-badge.svg\" alt=\"Open In Colab\"/></a>"
      ]
    },
    {
      "cell_type": "code",
      "metadata": {
        "id": "NDPmKbyW5CBB",
        "colab_type": "code",
        "outputId": "94b2ef28-745f-45e0-d1f5-2a53f6b8ddbc",
        "colab": {
          "base_uri": "https://localhost:8080/",
          "height": 300
        }
      },
      "source": [
        "import matplotlib.pyplot as plt\n",
        "\n",
        "# BeautifulSoup XML Parser\n",
        "# API: https://www.crummy.com/software/BeautifulSoup/bs4/doc/\n",
        "from bs4 import BeautifulSoup\n",
        "\n",
        "from google.colab import drive\n",
        "drive.mount('/content/drive')\n",
        "infile = '/content/drive/My Drive/Mundy Group/Three Muskateers Group/Code/test.xrdml'\n",
        "\n",
        "# converts xrdml file into BeautifulSoup object\n",
        "def convertToBS(filename):\n",
        "  with open(filename,'r') as file:\n",
        "    file_input = file.read()\n",
        "  return BeautifulSoup(file_input)\n",
        "\n",
        "# get 2Theta start and end positions\n",
        "def get2Theta(filename):\n",
        "  soup = convertToBS(filename)\n",
        "  return [float(soup.startposition.string),float(soup.endposition.string)]\n",
        "\n",
        "# get intensities of tth scan \n",
        "def getIntensities(filename):\n",
        "  soup = convertToBS(filename)\n",
        "  return [float(intensity) for intensity in soup.intensities.string.split()]\n",
        "\n",
        "# get id \n",
        "def getID(filename):\n",
        "  soup = convertToBS(filename)\n",
        "  return soup.id.string\n",
        "\n",
        "# create dictionary of 2Theta and intensity values\n",
        "def createDict(filename):\n",
        "  d = {}\n",
        "  [tth_beg,tth_end] = get2Theta(filename)\n",
        "  intensities = getIntensities(filename)\n",
        "  tth = tth_beg\n",
        "  incr = (tth_end - tth_beg) / (len(intensities) - 1)\n",
        "  for i in intensities:\n",
        "    d[tth] = i\n",
        "    tth = tth + incr\n",
        "  return d\n",
        "\n",
        "\n",
        "#TODO: Data Analysis\n",
        "# Resolve Peaks (Maxima)\n",
        "\n",
        "\n",
        "\n",
        "#TODO: Data Output\n",
        "# Semilogy Graph\n",
        "tth = createDict(infile)\n",
        "x,y = list(tth.keys()),list(tth.values())\n",
        "plt.semilogy(x,y)\n"
      ],
      "execution_count": 6,
      "outputs": [
        {
          "output_type": "stream",
          "text": [
            "Drive already mounted at /content/drive; to attempt to forcibly remount, call drive.mount(\"/content/drive\", force_remount=True).\n"
          ],
          "name": "stdout"
        },
        {
          "output_type": "execute_result",
          "data": {
            "text/plain": [
              "[<matplotlib.lines.Line2D at 0x7fec43a5b588>]"
            ]
          },
          "metadata": {
            "tags": []
          },
          "execution_count": 6
        },
        {
          "output_type": "display_data",
          "data": {
            "image/png": "[encoded data removed]",
            "text/plain": [
              "<Figure size 432x288 with 1 Axes>"
            ]
          },
          "metadata": {
            "tags": [],
            "needs_background": "light"
          }
        }
      ]
    }
  ]
}